{
  "nbformat": 4,
  "nbformat_minor": 0,
  "metadata": {
    "colab": {
      "name": "EE6610HW.ipynb",
      "provenance": [],
      "collapsed_sections": [],
      "authorship_tag": "ABX9TyN07XBBFe4d5DvAxTnPCl4v",
      "include_colab_link": true
    },
    "kernelspec": {
      "name": "python3",
      "display_name": "Python 3"
    },
    "language_info": {
      "name": "python"
    }
  },
  "cells": [
    {
      "cell_type": "markdown",
      "metadata": {
        "id": "view-in-github",
        "colab_type": "text"
      },
      "source": [
        "<a href=\"https://colab.research.google.com/github/chiyeung54526/python-exercise/blob/master/EE6610HW.ipynb\" target=\"_parent\"><img src=\"https://colab.research.google.com/assets/colab-badge.svg\" alt=\"Open In Colab\"/></a>"
      ]
    },
    {
      "cell_type": "code",
      "execution_count": 28,
      "metadata": {
        "colab": {
          "base_uri": "https://localhost:8080/"
        },
        "id": "PSoDBR6rYPFY",
        "outputId": "a5dbd8db-e6f6-4c57-cd65-cea553117f44"
      },
      "outputs": [
        {
          "output_type": "stream",
          "name": "stdout",
          "text": [
            "The 12 random numbers are: [80, 95, 91, 81, 48, 84, 92, 85, 3, 99, 62, 67]\n",
            "The average is: 73.91666666666667\n",
            "The variance is: 717.719696969697\n",
            "The standard deviation is: 26.790291095277354\n"
          ]
        }
      ],
      "source": [
        "import numpy as np\n",
        "import random\n",
        "from statistics import mean,stdev,variance\n",
        "# HW1\n",
        "rnd_n = random.sample(range(0,100),12)\n",
        "print('The 12 random numbers are:',rnd_n)\n",
        "\n",
        "avg_n = mean(rnd_n)\n",
        "print('The average is:',avg_n)\n",
        "\n",
        "variance_n = variance(rnd_n)\n",
        "print('The variance is:',variance_n)\n",
        "\n",
        "stdev_n = stdev(rnd_n)\n",
        "print('The standard deviation is:',stdev_n)"
      ]
    },
    {
      "cell_type": "code",
      "source": [
        "# HW2\n",
        "def my_confidence_interval(a,b,sampleSize):\n",
        "  from scipy import stats\n",
        "  n=11\n",
        "  TINV = stats.t.ppf(1-0.05/2,n-1)\n",
        "  mean_list=[]\n",
        "  std_list=[]\n",
        "  var_list=[]\n",
        "  for i in range(n):\n",
        "    rnd_n = [random.uniform(a,b) for i in range(sampleSize)]\n",
        "    mean_list.append(mean(rnd_n))\n",
        "    std_list.append(stdev(rnd_n))\n",
        "    var_list.append(variance(rnd_n))\n",
        "    \n",
        "\n",
        "  Ur = TINV * (stdev(std_list))/np.sqrt(n)\n",
        "  print('The confidence interval in size',sampleSize,'is:',[mean(mean_list)-Ur,mean(mean_list)+Ur])\n",
        "\n",
        "\n"
      ],
      "metadata": {
        "colab": {
          "base_uri": "https://localhost:8080/"
        },
        "id": "6SgpMqiXdOlv",
        "outputId": "13a5566c-f406-45eb-d1d1-5a70899c7f2c"
      },
      "execution_count": 53,
      "outputs": [
        {
          "output_type": "stream",
          "name": "stdout",
          "text": [
            "The confidence interval in size 10 is: [0.5198066599550666, 0.5733046732434546]\n",
            "The confidence interval in size 100 is: [0.48430528471140427, 0.5003781684138918]\n",
            "The confidence interval in size 1000 is: [0.4971870215737996, 0.5020777242121631]\n",
            "The confidence interval in size 10000 is: [0.4994789728870866, 0.5008916621095019]\n",
            "The confidence interval in size 100000 is: [0.49933151342587623, 0.4998547733259995]\n"
          ]
        }
      ]
    },
    {
      "cell_type": "code",
      "source": [
        "my_confidence_interval(0,1,10)\n",
        "my_confidence_interval(0,1,100)\n",
        "my_confidence_interval(0,1,1000)\n",
        "my_confidence_interval(0,1,10000)\n",
        "my_confidence_interval(0,1,100000)\n",
        "my_confidence_interval(0,1,1000000)"
      ],
      "metadata": {
        "colab": {
          "base_uri": "https://localhost:8080/"
        },
        "id": "OcyeUMoKtU45",
        "outputId": "6361ca91-15d3-4594-8f85-f6dfd19a7baf"
      },
      "execution_count": 54,
      "outputs": [
        {
          "output_type": "stream",
          "name": "stdout",
          "text": [
            "The confidence interval in size 10 is: [0.499744348864083, 0.5406687305972393]\n",
            "The confidence interval in size 100 is: [0.485949630798026, 0.5024412587618323]\n",
            "The confidence interval in size 1000 is: [0.5003563540502591, 0.5046402724389145]\n",
            "The confidence interval in size 10000 is: [0.5015009894790494, 0.5031126350708162]\n",
            "The confidence interval in size 100000 is: [0.49992764962992414, 0.5005363300941842]\n",
            "The confidence interval in size 1000000 is: [0.49991739169861266, 0.500031141393899]\n"
          ]
        }
      ]
    },
    {
      "cell_type": "code",
      "source": [
        "# Let a=25 ,b=75\n",
        "my_confidence_interval(25,75,10)\n",
        "my_confidence_interval(25,75,100)\n",
        "my_confidence_interval(25,75,1000)\n",
        "my_confidence_interval(25,75,10000)\n",
        "my_confidence_interval(25,75,100000)\n",
        "my_confidence_interval(25,75,1000000)"
      ],
      "metadata": {
        "colab": {
          "base_uri": "https://localhost:8080/"
        },
        "id": "A2MnHfZytVxa",
        "outputId": "6a89f7b9-62b3-4e0d-c9da-5ad0fe7b2ad9"
      },
      "execution_count": 55,
      "outputs": [
        {
          "output_type": "stream",
          "name": "stdout",
          "text": [
            "The confidence interval in size 10 is: [49.58192663206863, 51.793034385152566]\n",
            "The confidence interval in size 100 is: [50.32547045128456, 51.567341100716334]\n",
            "The confidence interval in size 1000 is: [49.87877503236363, 50.12199353797431]\n",
            "The confidence interval in size 10000 is: [50.01079433442054, 50.099012017844046]\n",
            "The confidence interval in size 100000 is: [49.98622005486712, 50.009237901568696]\n",
            "The confidence interval in size 1000000 is: [49.98667483340373, 49.99240094332183]\n"
          ]
        }
      ]
    }
  ]
}